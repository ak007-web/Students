{
 "cells": [
  {
   "cell_type": "markdown",
   "id": "a425cae7-83bb-4bb6-88f0-a6a007274a83",
   "metadata": {},
   "source": [
    "# Students Dataset\n",
    "**Here we are going to Analyse the data using pandas and**"
   ]
  },
  {
   "cell_type": "markdown",
   "id": "0c46a117-4d70-45fa-b5be-e3034433c649",
   "metadata": {},
   "source": [
    "- Importing pandas as pd(Alias) to perform tasks)\n",
    "- importing dataset into 'df'"
   ]
  },
  {
   "cell_type": "code",
   "execution_count": 89,
   "id": "004995ac-9e02-40bd-80ef-e85ff20849a7",
   "metadata": {},
   "outputs": [
    {
     "data": {
      "text/html": [
       "<div>\n",
       "<style scoped>\n",
       "    .dataframe tbody tr th:only-of-type {\n",
       "        vertical-align: middle;\n",
       "    }\n",
       "\n",
       "    .dataframe tbody tr th {\n",
       "        vertical-align: top;\n",
       "    }\n",
       "\n",
       "    .dataframe thead th {\n",
       "        text-align: right;\n",
       "    }\n",
       "</style>\n",
       "<table border=\"1\" class=\"dataframe\">\n",
       "  <thead>\n",
       "    <tr style=\"text-align: right;\">\n",
       "      <th></th>\n",
       "      <th>StudentID</th>\n",
       "      <th>Name</th>\n",
       "      <th>Gender</th>\n",
       "      <th>Course</th>\n",
       "      <th>Age</th>\n",
       "      <th>Marks</th>\n",
       "      <th>Grade</th>\n",
       "      <th>City</th>\n",
       "    </tr>\n",
       "  </thead>\n",
       "  <tbody>\n",
       "    <tr>\n",
       "      <th>0</th>\n",
       "      <td>2001</td>\n",
       "      <td>Isha</td>\n",
       "      <td>Female</td>\n",
       "      <td>Data Science</td>\n",
       "      <td>27</td>\n",
       "      <td>82</td>\n",
       "      <td>F</td>\n",
       "      <td>Bangalore</td>\n",
       "    </tr>\n",
       "    <tr>\n",
       "      <th>1</th>\n",
       "      <td>2002</td>\n",
       "      <td>Aarav</td>\n",
       "      <td>Female</td>\n",
       "      <td>Data Science</td>\n",
       "      <td>27</td>\n",
       "      <td>42</td>\n",
       "      <td>A</td>\n",
       "      <td>Hyderabad</td>\n",
       "    </tr>\n",
       "    <tr>\n",
       "      <th>2</th>\n",
       "      <td>2003</td>\n",
       "      <td>Vivaan</td>\n",
       "      <td>Male</td>\n",
       "      <td>Web Development</td>\n",
       "      <td>24</td>\n",
       "      <td>98</td>\n",
       "      <td>B</td>\n",
       "      <td>Kolkata</td>\n",
       "    </tr>\n",
       "    <tr>\n",
       "      <th>3</th>\n",
       "      <td>2004</td>\n",
       "      <td>Sanya</td>\n",
       "      <td>Female</td>\n",
       "      <td>Web Development</td>\n",
       "      <td>23</td>\n",
       "      <td>52</td>\n",
       "      <td>A</td>\n",
       "      <td>Hyderabad</td>\n",
       "    </tr>\n",
       "    <tr>\n",
       "      <th>4</th>\n",
       "      <td>2005</td>\n",
       "      <td>Anaya</td>\n",
       "      <td>Female</td>\n",
       "      <td>Web Development</td>\n",
       "      <td>28</td>\n",
       "      <td>51</td>\n",
       "      <td>A</td>\n",
       "      <td>Hyderabad</td>\n",
       "    </tr>\n",
       "  </tbody>\n",
       "</table>\n",
       "</div>"
      ],
      "text/plain": [
       "   StudentID    Name  Gender           Course  Age  Marks Grade       City\n",
       "0       2001    Isha  Female     Data Science   27     82     F  Bangalore\n",
       "1       2002   Aarav  Female     Data Science   27     42     A  Hyderabad\n",
       "2       2003  Vivaan    Male  Web Development   24     98     B    Kolkata\n",
       "3       2004   Sanya  Female  Web Development   23     52     A  Hyderabad\n",
       "4       2005   Anaya  Female  Web Development   28     51     A  Hyderabad"
      ]
     },
     "execution_count": 89,
     "metadata": {},
     "output_type": "execute_result"
    }
   ],
   "source": [
    "import pandas as pd\n",
    "\n",
    "df=pd.read_csv(r\"C:\\Users\\hp\\Downloads\\student_dataset.csv\")\n",
    "df.head()"
   ]
  },
  {
   "cell_type": "markdown",
   "id": "c71581a5-2fcb-4104-97b2-b4c88e2b2ecd",
   "metadata": {},
   "source": [
    "**Performing shape to find out number of rows and columns**"
   ]
  },
  {
   "cell_type": "code",
   "execution_count": 93,
   "id": "c375f199-fc9a-488a-aa77-cbffbe68bb57",
   "metadata": {},
   "outputs": [
    {
     "data": {
      "text/plain": [
       "(150, 8)"
      ]
     },
     "execution_count": 93,
     "metadata": {},
     "output_type": "execute_result"
    }
   ],
   "source": [
    "df.shape"
   ]
  },
  {
   "cell_type": "markdown",
   "id": "88f732e2-39d3-4f46-9ced-8d38400bb5bf",
   "metadata": {},
   "source": [
    "- As per shape, there are 150 rows and 8 columns present in the dataset"
   ]
  },
  {
   "cell_type": "markdown",
   "id": "66609b5a-0361-47e5-89f7-b2769e2fd304",
   "metadata": {},
   "source": [
    "**Performing Numerical calculations using describe method**"
   ]
  },
  {
   "cell_type": "code",
   "execution_count": 3,
   "id": "64e3176f-0359-412c-8380-1485204b1462",
   "metadata": {},
   "outputs": [
    {
     "data": {
      "text/html": [
       "<div>\n",
       "<style scoped>\n",
       "    .dataframe tbody tr th:only-of-type {\n",
       "        vertical-align: middle;\n",
       "    }\n",
       "\n",
       "    .dataframe tbody tr th {\n",
       "        vertical-align: top;\n",
       "    }\n",
       "\n",
       "    .dataframe thead th {\n",
       "        text-align: right;\n",
       "    }\n",
       "</style>\n",
       "<table border=\"1\" class=\"dataframe\">\n",
       "  <thead>\n",
       "    <tr style=\"text-align: right;\">\n",
       "      <th></th>\n",
       "      <th>StudentID</th>\n",
       "      <th>Age</th>\n",
       "      <th>Marks</th>\n",
       "    </tr>\n",
       "  </thead>\n",
       "  <tbody>\n",
       "    <tr>\n",
       "      <th>count</th>\n",
       "      <td>150.000000</td>\n",
       "      <td>150.000000</td>\n",
       "      <td>150.000000</td>\n",
       "    </tr>\n",
       "    <tr>\n",
       "      <th>mean</th>\n",
       "      <td>2075.500000</td>\n",
       "      <td>24.346667</td>\n",
       "      <td>67.033333</td>\n",
       "    </tr>\n",
       "    <tr>\n",
       "      <th>std</th>\n",
       "      <td>43.445368</td>\n",
       "      <td>3.701962</td>\n",
       "      <td>17.598206</td>\n",
       "    </tr>\n",
       "    <tr>\n",
       "      <th>min</th>\n",
       "      <td>2001.000000</td>\n",
       "      <td>18.000000</td>\n",
       "      <td>40.000000</td>\n",
       "    </tr>\n",
       "    <tr>\n",
       "      <th>25%</th>\n",
       "      <td>2038.250000</td>\n",
       "      <td>21.250000</td>\n",
       "      <td>52.000000</td>\n",
       "    </tr>\n",
       "    <tr>\n",
       "      <th>50%</th>\n",
       "      <td>2075.500000</td>\n",
       "      <td>24.000000</td>\n",
       "      <td>62.000000</td>\n",
       "    </tr>\n",
       "    <tr>\n",
       "      <th>75%</th>\n",
       "      <td>2112.750000</td>\n",
       "      <td>27.000000</td>\n",
       "      <td>82.750000</td>\n",
       "    </tr>\n",
       "    <tr>\n",
       "      <th>max</th>\n",
       "      <td>2150.000000</td>\n",
       "      <td>30.000000</td>\n",
       "      <td>100.000000</td>\n",
       "    </tr>\n",
       "  </tbody>\n",
       "</table>\n",
       "</div>"
      ],
      "text/plain": [
       "         StudentID         Age       Marks\n",
       "count   150.000000  150.000000  150.000000\n",
       "mean   2075.500000   24.346667   67.033333\n",
       "std      43.445368    3.701962   17.598206\n",
       "min    2001.000000   18.000000   40.000000\n",
       "25%    2038.250000   21.250000   52.000000\n",
       "50%    2075.500000   24.000000   62.000000\n",
       "75%    2112.750000   27.000000   82.750000\n",
       "max    2150.000000   30.000000  100.000000"
      ]
     },
     "execution_count": 3,
     "metadata": {},
     "output_type": "execute_result"
    }
   ],
   "source": [
    "df.describe()"
   ]
  },
  {
   "cell_type": "markdown",
   "id": "0dd1ed58-f50d-4aae-9e86-ff904a1fbdad",
   "metadata": {},
   "source": [
    "**As per the data**\n",
    "\n",
    "- Student id is between 2001-2150\n",
    "- Student's min age is 18 and max age is 30\n",
    "- min marks obtained by student is 40 and max marks are 100"
   ]
  },
  {
   "cell_type": "markdown",
   "id": "06a1a213-bd28-4d23-a690-20af5ba13d02",
   "metadata": {},
   "source": [
    "**Taking information about the dataset using info method**"
   ]
  },
  {
   "cell_type": "code",
   "execution_count": 5,
   "id": "95188827-533c-4a9a-8014-837a64358db4",
   "metadata": {},
   "outputs": [
    {
     "name": "stdout",
     "output_type": "stream",
     "text": [
      "<class 'pandas.core.frame.DataFrame'>\n",
      "RangeIndex: 150 entries, 0 to 149\n",
      "Data columns (total 8 columns):\n",
      " #   Column     Non-Null Count  Dtype \n",
      "---  ------     --------------  ----- \n",
      " 0   StudentID  150 non-null    int64 \n",
      " 1   Name       150 non-null    object\n",
      " 2   Gender     150 non-null    object\n",
      " 3   Course     150 non-null    object\n",
      " 4   Age        150 non-null    int64 \n",
      " 5   Marks      150 non-null    int64 \n",
      " 6   Grade      150 non-null    object\n",
      " 7   City       150 non-null    object\n",
      "dtypes: int64(3), object(5)\n",
      "memory usage: 9.5+ KB\n"
     ]
    }
   ],
   "source": [
    "df.info()"
   ]
  },
  {
   "cell_type": "markdown",
   "id": "0cebfde9-a617-4032-9be5-c4e3065cf4e5",
   "metadata": {},
   "source": [
    "- Here are 8 columns having int and object datatypes\n",
    "- there are 150 values in each columns"
   ]
  },
  {
   "cell_type": "markdown",
   "id": "3266c6b6-88d1-4a47-b929-913256179230",
   "metadata": {},
   "source": [
    "**Checking if there is any null value or missing value in each column**"
   ]
  },
  {
   "cell_type": "code",
   "execution_count": 21,
   "id": "40cb6e5e-2bb8-4c6f-bbda-bbb5462a9aec",
   "metadata": {},
   "outputs": [
    {
     "data": {
      "text/plain": [
       "StudentID    0\n",
       "Name         0\n",
       "Gender       0\n",
       "Course       0\n",
       "Age          0\n",
       "Marks        0\n",
       "Grade        0\n",
       "City         0\n",
       "dtype: int64"
      ]
     },
     "execution_count": 21,
     "metadata": {},
     "output_type": "execute_result"
    }
   ],
   "source": [
    "df.isnull().sum()"
   ]
  },
  {
   "cell_type": "markdown",
   "id": "67b0b769-5891-48d7-bdde-818f57c97cd9",
   "metadata": {},
   "source": [
    "- there aren't any null or missing value in any column"
   ]
  },
  {
   "cell_type": "markdown",
   "id": "2146005c-dafe-4b6e-a46e-8525b0249ab6",
   "metadata": {},
   "source": [
    "**Checking if any duplicated value present in student id column**"
   ]
  },
  {
   "cell_type": "code",
   "execution_count": 23,
   "id": "9a100d6c-a566-4a84-be88-2e3a11b3ac98",
   "metadata": {},
   "outputs": [
    {
     "data": {
      "text/plain": [
       "0"
      ]
     },
     "execution_count": 23,
     "metadata": {},
     "output_type": "execute_result"
    }
   ],
   "source": [
    "df['StudentID'].duplicated().sum()"
   ]
  },
  {
   "cell_type": "markdown",
   "id": "d7f98ec3-e078-4c5f-a59c-33628c9a8cc4",
   "metadata": {},
   "source": [
    "- There isn't duplicate value in student id column"
   ]
  },
  {
   "cell_type": "markdown",
   "id": "bf8a8203-416b-4552-9e05-c4e3323b3674",
   "metadata": {},
   "source": [
    "**Count of number of same gender in the column 'Gender'**"
   ]
  },
  {
   "cell_type": "code",
   "execution_count": 35,
   "id": "0e1ee2d9-849c-4f24-943d-586b260e0c49",
   "metadata": {},
   "outputs": [
    {
     "data": {
      "text/plain": [
       "Gender\n",
       "Male      77\n",
       "Female    73\n",
       "Name: count, dtype: int64"
      ]
     },
     "execution_count": 35,
     "metadata": {},
     "output_type": "execute_result"
    }
   ],
   "source": [
    "df['Gender'].value_counts()"
   ]
  },
  {
   "cell_type": "markdown",
   "id": "27c05571-2cfe-4de7-bb77-4ead5f44c987",
   "metadata": {},
   "source": [
    "- As per data, there are 77 Male and 73 Female students"
   ]
  },
  {
   "cell_type": "markdown",
   "id": "9363eea4-bdc7-451b-aefc-e093de45ee41",
   "metadata": {},
   "source": [
    "**Counting how many students are having same age**"
   ]
  },
  {
   "cell_type": "code",
   "execution_count": 49,
   "id": "6a5af70c-351e-49f2-b411-001107932a73",
   "metadata": {},
   "outputs": [
    {
     "data": {
      "text/plain": [
       "Age\n",
       "18    12\n",
       "19    10\n",
       "20     7\n",
       "21     9\n",
       "22     6\n",
       "23    17\n",
       "24    16\n",
       "25    14\n",
       "26    10\n",
       "27    12\n",
       "28    12\n",
       "29    10\n",
       "30    15\n",
       "Name: count, dtype: int64"
      ]
     },
     "execution_count": 49,
     "metadata": {},
     "output_type": "execute_result"
    }
   ],
   "source": [
    "df['Age'].value_counts().sort_index()"
   ]
  },
  {
   "cell_type": "markdown",
   "id": "7f2f7f80-7f46-4ee5-86b2-e9374d353cf1",
   "metadata": {},
   "source": [
    "- So according to the data, we have 13 different ages\n",
    "- starts from 18 and ends at 30\n",
    "- by maually grouping we can say that,\n",
    "- 77 student's are between 18-24 age group\n",
    "- 73 student's are between 25-30 age group"
   ]
  },
  {
   "cell_type": "markdown",
   "id": "5110052d-0c2c-4d4b-8d06-a026fadce12f",
   "metadata": {},
   "source": [
    "**Counting values for each unique grade**"
   ]
  },
  {
   "cell_type": "code",
   "execution_count": 47,
   "id": "1613ee6c-43bd-4a7f-bec4-40d705f14df4",
   "metadata": {},
   "outputs": [
    {
     "data": {
      "text/plain": [
       "Grade\n",
       "A    36\n",
       "B    24\n",
       "C    33\n",
       "D    32\n",
       "F    25\n",
       "Name: count, dtype: int64"
      ]
     },
     "execution_count": 47,
     "metadata": {},
     "output_type": "execute_result"
    }
   ],
   "source": [
    "df['Grade'].value_counts().sort_index()"
   ]
  },
  {
   "cell_type": "markdown",
   "id": "e2225e6e-ad6b-47ab-bacb-7aa4945c6148",
   "metadata": {},
   "source": [
    "- We have 5 grades according to marks\n",
    "- 'A', 'B', 'C', 'D', 'F' are the grades\n",
    "- 36, 24, 33, 32, 25 are the count of students respectively for the grades\n",
    "  "
   ]
  },
  {
   "cell_type": "markdown",
   "id": "5e587c0e-f461-409e-9653-c79d5866e317",
   "metadata": {},
   "source": [
    "**Counting the students belongs to their respective city**"
   ]
  },
  {
   "cell_type": "code",
   "execution_count": 51,
   "id": "3ef2f450-590a-43fa-b533-93bfc91bc71c",
   "metadata": {},
   "outputs": [
    {
     "data": {
      "text/plain": [
       "City\n",
       "Bangalore    48\n",
       "Delhi        17\n",
       "Hyderabad    28\n",
       "Kolkata      28\n",
       "Mumbai       29\n",
       "Name: count, dtype: int64"
      ]
     },
     "execution_count": 51,
     "metadata": {},
     "output_type": "execute_result"
    }
   ],
   "source": [
    "df['City'].value_counts().sort_index()"
   ]
  },
  {
   "cell_type": "markdown",
   "id": "a39d01e6-37d9-4588-b5d7-d543858ef548",
   "metadata": {},
   "source": [
    "- according to the data,\n",
    "- most of the students belongs to Bangalore city(48)\n",
    "- followed by mumbai(29), hyderabad and kolkata 28 for each and delhi with 17"
   ]
  },
  {
   "cell_type": "markdown",
   "id": "713c7974-7b9f-424e-8a39-fec273a5d975",
   "metadata": {},
   "source": [
    "**Finding no. of students who got 100 marks**"
   ]
  },
  {
   "cell_type": "code",
   "execution_count": 75,
   "id": "222e0df6-b897-4049-940a-ae4e2e96a04c",
   "metadata": {},
   "outputs": [
    {
     "data": {
      "text/html": [
       "<div>\n",
       "<style scoped>\n",
       "    .dataframe tbody tr th:only-of-type {\n",
       "        vertical-align: middle;\n",
       "    }\n",
       "\n",
       "    .dataframe tbody tr th {\n",
       "        vertical-align: top;\n",
       "    }\n",
       "\n",
       "    .dataframe thead th {\n",
       "        text-align: right;\n",
       "    }\n",
       "</style>\n",
       "<table border=\"1\" class=\"dataframe\">\n",
       "  <thead>\n",
       "    <tr style=\"text-align: right;\">\n",
       "      <th></th>\n",
       "      <th>StudentID</th>\n",
       "      <th>Name</th>\n",
       "      <th>Gender</th>\n",
       "      <th>Course</th>\n",
       "      <th>Age</th>\n",
       "      <th>Marks</th>\n",
       "      <th>Grade</th>\n",
       "      <th>City</th>\n",
       "      <th>AgeGroup</th>\n",
       "    </tr>\n",
       "  </thead>\n",
       "  <tbody>\n",
       "    <tr>\n",
       "      <th>17</th>\n",
       "      <td>2018</td>\n",
       "      <td>Aarav</td>\n",
       "      <td>Female</td>\n",
       "      <td>Data Science</td>\n",
       "      <td>27</td>\n",
       "      <td>100</td>\n",
       "      <td>C</td>\n",
       "      <td>Kolkata</td>\n",
       "      <td>26-30</td>\n",
       "    </tr>\n",
       "    <tr>\n",
       "      <th>36</th>\n",
       "      <td>2037</td>\n",
       "      <td>Diya</td>\n",
       "      <td>Female</td>\n",
       "      <td>Web Development</td>\n",
       "      <td>29</td>\n",
       "      <td>100</td>\n",
       "      <td>C</td>\n",
       "      <td>Bangalore</td>\n",
       "      <td>26-30</td>\n",
       "    </tr>\n",
       "  </tbody>\n",
       "</table>\n",
       "</div>"
      ],
      "text/plain": [
       "    StudentID   Name  Gender           Course  Age  Marks Grade       City  \\\n",
       "17       2018  Aarav  Female     Data Science   27    100     C    Kolkata   \n",
       "36       2037   Diya  Female  Web Development   29    100     C  Bangalore   \n",
       "\n",
       "   AgeGroup  \n",
       "17    26-30  \n",
       "36    26-30  "
      ]
     },
     "execution_count": 75,
     "metadata": {},
     "output_type": "execute_result"
    }
   ],
   "source": [
    "df[df['Marks'] == 100]"
   ]
  },
  {
   "cell_type": "markdown",
   "id": "94ccdaa3-425d-4b3e-8dbf-d6530b502a04",
   "metadata": {},
   "source": [
    "- There are only 2 students who got 100 marks"
   ]
  },
  {
   "cell_type": "markdown",
   "id": "3ccd268e-34b8-451d-8646-e4883eec78da",
   "metadata": {},
   "source": [
    "**Finding no. of students who got marks above 90**"
   ]
  },
  {
   "cell_type": "code",
   "execution_count": 85,
   "id": "716a9f8d-f548-441a-ab0c-6d6f5a6f132a",
   "metadata": {},
   "outputs": [
    {
     "data": {
      "text/plain": [
       "Marks\n",
       "False    125\n",
       "True      25\n",
       "Name: count, dtype: int64"
      ]
     },
     "execution_count": 85,
     "metadata": {},
     "output_type": "execute_result"
    }
   ],
   "source": [
    "(df['Marks'] >= 90).value_counts()"
   ]
  },
  {
   "cell_type": "markdown",
   "id": "51bebd7f-20c8-4864-b887-a8c68a881ece",
   "metadata": {},
   "source": [
    "- There are 25 student's who got marks above 90(including the student's who got 100)\n",
    "- soo there are 23 students between 90-99 range"
   ]
  },
  {
   "cell_type": "code",
   "execution_count": 132,
   "id": "e8011830-c028-44cb-b19c-94b15c261d4e",
   "metadata": {},
   "outputs": [
    {
     "data": {
      "text/plain": [
       "Marks\n",
       "False    108\n",
       "True      42\n",
       "Name: count, dtype: int64"
      ]
     },
     "execution_count": 132,
     "metadata": {},
     "output_type": "execute_result"
    }
   ],
   "source": [
    "(df['Marks'] >= 80).value_counts()"
   ]
  },
  {
   "cell_type": "markdown",
   "id": "10886c59-3fbc-47c8-aa55-24674324b14c",
   "metadata": {},
   "source": [
    "- if we remove 25 students who got marks above 90, there are 17 students who got marks between 80-89"
   ]
  },
  {
   "cell_type": "code",
   "execution_count": 134,
   "id": "5ff2aec6-eaa9-41a2-bcd4-d8a67ef6a125",
   "metadata": {},
   "outputs": [
    {
     "data": {
      "text/plain": [
       "Marks\n",
       "False    89\n",
       "True     61\n",
       "Name: count, dtype: int64"
      ]
     },
     "execution_count": 134,
     "metadata": {},
     "output_type": "execute_result"
    }
   ],
   "source": [
    "(df['Marks'] >= 70).value_counts()"
   ]
  },
  {
   "cell_type": "markdown",
   "id": "e0eaba6c-2077-47d6-bc86-847dbbb3d21b",
   "metadata": {},
   "source": [
    "- similarly there are 19 students who got marks between 70-79"
   ]
  },
  {
   "cell_type": "code",
   "execution_count": 136,
   "id": "b897d602-a3fa-4d16-9cb3-625b51f65ec1",
   "metadata": {},
   "outputs": [
    {
     "data": {
      "text/plain": [
       "Marks\n",
       "True     86\n",
       "False    64\n",
       "Name: count, dtype: int64"
      ]
     },
     "execution_count": 136,
     "metadata": {},
     "output_type": "execute_result"
    }
   ],
   "source": [
    "(df['Marks'] >= 60).value_counts()"
   ]
  },
  {
   "cell_type": "markdown",
   "id": "54b8701d-2219-4895-a5ad-d22e6ddea919",
   "metadata": {},
   "source": [
    "- 25 students got marks between 60-69"
   ]
  },
  {
   "cell_type": "code",
   "execution_count": 138,
   "id": "4aff104c-9a26-4725-8135-81abc9c9773a",
   "metadata": {},
   "outputs": [
    {
     "data": {
      "text/plain": [
       "Marks\n",
       "True     125\n",
       "False     25\n",
       "Name: count, dtype: int64"
      ]
     },
     "execution_count": 138,
     "metadata": {},
     "output_type": "execute_result"
    }
   ],
   "source": [
    "(df['Marks'] >= 50).value_counts()"
   ]
  },
  {
   "cell_type": "markdown",
   "id": "ad10aa4e-b20f-4c20-a47f-285a50fa06b6",
   "metadata": {},
   "source": [
    "- 39 students got marks between 50-59"
   ]
  },
  {
   "cell_type": "code",
   "execution_count": 145,
   "id": "c9ef57ec-5be2-4831-a98d-5d5e40265909",
   "metadata": {},
   "outputs": [
    {
     "data": {
      "text/plain": [
       "Marks\n",
       "True    150\n",
       "Name: count, dtype: int64"
      ]
     },
     "execution_count": 145,
     "metadata": {},
     "output_type": "execute_result"
    }
   ],
   "source": [
    "(df['Marks'] >= 40).value_counts()"
   ]
  },
  {
   "cell_type": "markdown",
   "id": "0493d111-e561-43ec-a9b3-edbf9f2e0227",
   "metadata": {},
   "source": [
    "- Similarly 25 students got marks between 40-49"
   ]
  },
  {
   "cell_type": "code",
   "execution_count": null,
   "id": "e34ce5d2-f6b2-4cde-b0cd-7fa1ffe60349",
   "metadata": {},
   "outputs": [],
   "source": []
  }
 ],
 "metadata": {
  "kernelspec": {
   "display_name": "Python 3 (ipykernel)",
   "language": "python",
   "name": "python3"
  },
  "language_info": {
   "codemirror_mode": {
    "name": "ipython",
    "version": 3
   },
   "file_extension": ".py",
   "mimetype": "text/x-python",
   "name": "python",
   "nbconvert_exporter": "python",
   "pygments_lexer": "ipython3",
   "version": "3.12.4"
  }
 },
 "nbformat": 4,
 "nbformat_minor": 5
}
